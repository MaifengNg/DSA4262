{
 "cells": [
  {
   "cell_type": "code",
   "execution_count": 1,
   "id": "4edf7fe6-8a03-45bf-8b0e-c1b67bbc1d81",
   "metadata": {},
   "outputs": [],
   "source": [
    "import pandas as pd\n",
    "import numpy as np\n",
    "import matplotlib.pyplot as plt"
   ]
  },
  {
   "cell_type": "code",
   "execution_count": 2,
   "id": "83dddae5-9b9d-47a1-9966-6b74997c2d85",
   "metadata": {},
   "outputs": [],
   "source": [
    "from load_json import *"
   ]
  },
  {
   "cell_type": "code",
   "execution_count": 3,
   "id": "d40cf686-ea2a-44b9-be26-7a766577e192",
   "metadata": {},
   "outputs": [],
   "source": [
    "data = load_json_file('data.json')"
   ]
  },
  {
   "cell_type": "code",
   "execution_count": 4,
   "id": "611aac0f-b024-469f-9515-c2fcc3fb7100",
   "metadata": {},
   "outputs": [
    {
     "data": {
      "text/html": [
       "<div>\n",
       "<style scoped>\n",
       "    .dataframe tbody tr th:only-of-type {\n",
       "        vertical-align: middle;\n",
       "    }\n",
       "\n",
       "    .dataframe tbody tr th {\n",
       "        vertical-align: top;\n",
       "    }\n",
       "\n",
       "    .dataframe thead th {\n",
       "        text-align: right;\n",
       "    }\n",
       "</style>\n",
       "<table border=\"1\" class=\"dataframe\">\n",
       "  <thead>\n",
       "    <tr style=\"text-align: right;\">\n",
       "      <th></th>\n",
       "      <th>Transcript</th>\n",
       "      <th>Position</th>\n",
       "      <th>dwelling_time_before</th>\n",
       "      <th>sd_before</th>\n",
       "      <th>mean_before</th>\n",
       "      <th>dwelling_time_current</th>\n",
       "      <th>sd_current</th>\n",
       "      <th>mean_current</th>\n",
       "      <th>dwelling_time_after</th>\n",
       "      <th>sd_after</th>\n",
       "      <th>mean_after</th>\n",
       "    </tr>\n",
       "  </thead>\n",
       "  <tbody>\n",
       "    <tr>\n",
       "      <th>0</th>\n",
       "      <td>ENST00000000233</td>\n",
       "      <td>244</td>\n",
       "      <td>0.008264</td>\n",
       "      <td>4.223784</td>\n",
       "      <td>123.702703</td>\n",
       "      <td>0.009373</td>\n",
       "      <td>7.382162</td>\n",
       "      <td>125.913514</td>\n",
       "      <td>0.007345</td>\n",
       "      <td>4.386989</td>\n",
       "      <td>80.570270</td>\n",
       "    </tr>\n",
       "    <tr>\n",
       "      <th>1</th>\n",
       "      <td>ENST00000000233</td>\n",
       "      <td>261</td>\n",
       "      <td>0.006609</td>\n",
       "      <td>3.216424</td>\n",
       "      <td>109.681395</td>\n",
       "      <td>0.006813</td>\n",
       "      <td>3.226535</td>\n",
       "      <td>107.889535</td>\n",
       "      <td>0.007710</td>\n",
       "      <td>3.016599</td>\n",
       "      <td>94.290698</td>\n",
       "    </tr>\n",
       "    <tr>\n",
       "      <th>2</th>\n",
       "      <td>ENST00000000233</td>\n",
       "      <td>316</td>\n",
       "      <td>0.007570</td>\n",
       "      <td>2.940541</td>\n",
       "      <td>105.475676</td>\n",
       "      <td>0.007416</td>\n",
       "      <td>3.642703</td>\n",
       "      <td>98.947027</td>\n",
       "      <td>0.007555</td>\n",
       "      <td>2.087146</td>\n",
       "      <td>89.364324</td>\n",
       "    </tr>\n",
       "    <tr>\n",
       "      <th>3</th>\n",
       "      <td>ENST00000000233</td>\n",
       "      <td>332</td>\n",
       "      <td>0.010620</td>\n",
       "      <td>6.476350</td>\n",
       "      <td>129.355000</td>\n",
       "      <td>0.008632</td>\n",
       "      <td>2.899200</td>\n",
       "      <td>97.836500</td>\n",
       "      <td>0.006102</td>\n",
       "      <td>2.236520</td>\n",
       "      <td>89.154000</td>\n",
       "    </tr>\n",
       "    <tr>\n",
       "      <th>4</th>\n",
       "      <td>ENST00000000233</td>\n",
       "      <td>368</td>\n",
       "      <td>0.010701</td>\n",
       "      <td>6.415051</td>\n",
       "      <td>117.924242</td>\n",
       "      <td>0.011479</td>\n",
       "      <td>5.870303</td>\n",
       "      <td>121.954545</td>\n",
       "      <td>0.010019</td>\n",
       "      <td>4.260253</td>\n",
       "      <td>85.178788</td>\n",
       "    </tr>\n",
       "  </tbody>\n",
       "</table>\n",
       "</div>"
      ],
      "text/plain": [
       "        Transcript Position  dwelling_time_before  sd_before  mean_before  \\\n",
       "0  ENST00000000233      244              0.008264   4.223784   123.702703   \n",
       "1  ENST00000000233      261              0.006609   3.216424   109.681395   \n",
       "2  ENST00000000233      316              0.007570   2.940541   105.475676   \n",
       "3  ENST00000000233      332              0.010620   6.476350   129.355000   \n",
       "4  ENST00000000233      368              0.010701   6.415051   117.924242   \n",
       "\n",
       "   dwelling_time_current  sd_current  mean_current  dwelling_time_after  \\\n",
       "0               0.009373    7.382162    125.913514             0.007345   \n",
       "1               0.006813    3.226535    107.889535             0.007710   \n",
       "2               0.007416    3.642703     98.947027             0.007555   \n",
       "3               0.008632    2.899200     97.836500             0.006102   \n",
       "4               0.011479    5.870303    121.954545             0.010019   \n",
       "\n",
       "   sd_after  mean_after  \n",
       "0  4.386989   80.570270  \n",
       "1  3.016599   94.290698  \n",
       "2  2.087146   89.364324  \n",
       "3  2.236520   89.154000  \n",
       "4  4.260253   85.178788  "
      ]
     },
     "execution_count": 4,
     "metadata": {},
     "output_type": "execute_result"
    }
   ],
   "source": [
    "data.head()"
   ]
  },
  {
   "cell_type": "code",
   "execution_count": 5,
   "id": "ba28d4fc-befc-4d9c-b004-816e5e29858c",
   "metadata": {},
   "outputs": [],
   "source": [
    "data['Position'] = data['Position'].astype(int)"
   ]
  },
  {
   "cell_type": "code",
   "execution_count": 6,
   "id": "b610f018-182c-46fb-9095-2e0e7112c645",
   "metadata": {},
   "outputs": [],
   "source": [
    "labels = pd.read_csv('data.info')"
   ]
  },
  {
   "cell_type": "code",
   "execution_count": 7,
   "id": "1afa8135-095a-4229-b143-b6e7084fb5a8",
   "metadata": {},
   "outputs": [
    {
     "data": {
      "text/html": [
       "<div>\n",
       "<style scoped>\n",
       "    .dataframe tbody tr th:only-of-type {\n",
       "        vertical-align: middle;\n",
       "    }\n",
       "\n",
       "    .dataframe tbody tr th {\n",
       "        vertical-align: top;\n",
       "    }\n",
       "\n",
       "    .dataframe thead th {\n",
       "        text-align: right;\n",
       "    }\n",
       "</style>\n",
       "<table border=\"1\" class=\"dataframe\">\n",
       "  <thead>\n",
       "    <tr style=\"text-align: right;\">\n",
       "      <th></th>\n",
       "      <th>gene_id</th>\n",
       "      <th>transcript_id</th>\n",
       "      <th>transcript_position</th>\n",
       "      <th>label</th>\n",
       "    </tr>\n",
       "  </thead>\n",
       "  <tbody>\n",
       "    <tr>\n",
       "      <th>0</th>\n",
       "      <td>ENSG00000004059</td>\n",
       "      <td>ENST00000000233</td>\n",
       "      <td>244</td>\n",
       "      <td>0</td>\n",
       "    </tr>\n",
       "    <tr>\n",
       "      <th>1</th>\n",
       "      <td>ENSG00000004059</td>\n",
       "      <td>ENST00000000233</td>\n",
       "      <td>261</td>\n",
       "      <td>0</td>\n",
       "    </tr>\n",
       "    <tr>\n",
       "      <th>2</th>\n",
       "      <td>ENSG00000004059</td>\n",
       "      <td>ENST00000000233</td>\n",
       "      <td>316</td>\n",
       "      <td>0</td>\n",
       "    </tr>\n",
       "    <tr>\n",
       "      <th>3</th>\n",
       "      <td>ENSG00000004059</td>\n",
       "      <td>ENST00000000233</td>\n",
       "      <td>332</td>\n",
       "      <td>0</td>\n",
       "    </tr>\n",
       "    <tr>\n",
       "      <th>4</th>\n",
       "      <td>ENSG00000004059</td>\n",
       "      <td>ENST00000000233</td>\n",
       "      <td>368</td>\n",
       "      <td>0</td>\n",
       "    </tr>\n",
       "  </tbody>\n",
       "</table>\n",
       "</div>"
      ],
      "text/plain": [
       "           gene_id    transcript_id  transcript_position  label\n",
       "0  ENSG00000004059  ENST00000000233                  244      0\n",
       "1  ENSG00000004059  ENST00000000233                  261      0\n",
       "2  ENSG00000004059  ENST00000000233                  316      0\n",
       "3  ENSG00000004059  ENST00000000233                  332      0\n",
       "4  ENSG00000004059  ENST00000000233                  368      0"
      ]
     },
     "execution_count": 7,
     "metadata": {},
     "output_type": "execute_result"
    }
   ],
   "source": [
    "labels.head()"
   ]
  },
  {
   "cell_type": "code",
   "execution_count": 8,
   "id": "70695f96-77d5-42ae-9624-5a91e4085a86",
   "metadata": {},
   "outputs": [],
   "source": [
    "df = pd.merge(labels, data, left_on=['transcript_id', 'transcript_position'], right_on=['Transcript', 'Position'])"
   ]
  },
  {
   "cell_type": "code",
   "execution_count": 9,
   "id": "31a6f39e-da03-4dce-8d10-63b9b93527a6",
   "metadata": {},
   "outputs": [],
   "source": [
    "df = df.drop(['Transcript', 'Position'], axis = 1)"
   ]
  },
  {
   "cell_type": "code",
   "execution_count": 10,
   "id": "eb080c0f-12be-4035-b314-51419c0e6505",
   "metadata": {},
   "outputs": [
    {
     "data": {
      "text/html": [
       "<div>\n",
       "<style scoped>\n",
       "    .dataframe tbody tr th:only-of-type {\n",
       "        vertical-align: middle;\n",
       "    }\n",
       "\n",
       "    .dataframe tbody tr th {\n",
       "        vertical-align: top;\n",
       "    }\n",
       "\n",
       "    .dataframe thead th {\n",
       "        text-align: right;\n",
       "    }\n",
       "</style>\n",
       "<table border=\"1\" class=\"dataframe\">\n",
       "  <thead>\n",
       "    <tr style=\"text-align: right;\">\n",
       "      <th></th>\n",
       "      <th>gene_id</th>\n",
       "      <th>transcript_id</th>\n",
       "      <th>transcript_position</th>\n",
       "      <th>label</th>\n",
       "      <th>dwelling_time_before</th>\n",
       "      <th>sd_before</th>\n",
       "      <th>mean_before</th>\n",
       "      <th>dwelling_time_current</th>\n",
       "      <th>sd_current</th>\n",
       "      <th>mean_current</th>\n",
       "      <th>dwelling_time_after</th>\n",
       "      <th>sd_after</th>\n",
       "      <th>mean_after</th>\n",
       "    </tr>\n",
       "  </thead>\n",
       "  <tbody>\n",
       "    <tr>\n",
       "      <th>0</th>\n",
       "      <td>ENSG00000004059</td>\n",
       "      <td>ENST00000000233</td>\n",
       "      <td>244</td>\n",
       "      <td>0</td>\n",
       "      <td>0.008264</td>\n",
       "      <td>4.223784</td>\n",
       "      <td>123.702703</td>\n",
       "      <td>0.009373</td>\n",
       "      <td>7.382162</td>\n",
       "      <td>125.913514</td>\n",
       "      <td>0.007345</td>\n",
       "      <td>4.386989</td>\n",
       "      <td>80.570270</td>\n",
       "    </tr>\n",
       "    <tr>\n",
       "      <th>1</th>\n",
       "      <td>ENSG00000004059</td>\n",
       "      <td>ENST00000000233</td>\n",
       "      <td>261</td>\n",
       "      <td>0</td>\n",
       "      <td>0.006609</td>\n",
       "      <td>3.216424</td>\n",
       "      <td>109.681395</td>\n",
       "      <td>0.006813</td>\n",
       "      <td>3.226535</td>\n",
       "      <td>107.889535</td>\n",
       "      <td>0.007710</td>\n",
       "      <td>3.016599</td>\n",
       "      <td>94.290698</td>\n",
       "    </tr>\n",
       "    <tr>\n",
       "      <th>2</th>\n",
       "      <td>ENSG00000004059</td>\n",
       "      <td>ENST00000000233</td>\n",
       "      <td>316</td>\n",
       "      <td>0</td>\n",
       "      <td>0.007570</td>\n",
       "      <td>2.940541</td>\n",
       "      <td>105.475676</td>\n",
       "      <td>0.007416</td>\n",
       "      <td>3.642703</td>\n",
       "      <td>98.947027</td>\n",
       "      <td>0.007555</td>\n",
       "      <td>2.087146</td>\n",
       "      <td>89.364324</td>\n",
       "    </tr>\n",
       "    <tr>\n",
       "      <th>3</th>\n",
       "      <td>ENSG00000004059</td>\n",
       "      <td>ENST00000000233</td>\n",
       "      <td>332</td>\n",
       "      <td>0</td>\n",
       "      <td>0.010620</td>\n",
       "      <td>6.476350</td>\n",
       "      <td>129.355000</td>\n",
       "      <td>0.008632</td>\n",
       "      <td>2.899200</td>\n",
       "      <td>97.836500</td>\n",
       "      <td>0.006102</td>\n",
       "      <td>2.236520</td>\n",
       "      <td>89.154000</td>\n",
       "    </tr>\n",
       "    <tr>\n",
       "      <th>4</th>\n",
       "      <td>ENSG00000004059</td>\n",
       "      <td>ENST00000000233</td>\n",
       "      <td>368</td>\n",
       "      <td>0</td>\n",
       "      <td>0.010701</td>\n",
       "      <td>6.415051</td>\n",
       "      <td>117.924242</td>\n",
       "      <td>0.011479</td>\n",
       "      <td>5.870303</td>\n",
       "      <td>121.954545</td>\n",
       "      <td>0.010019</td>\n",
       "      <td>4.260253</td>\n",
       "      <td>85.178788</td>\n",
       "    </tr>\n",
       "  </tbody>\n",
       "</table>\n",
       "</div>"
      ],
      "text/plain": [
       "           gene_id    transcript_id  transcript_position  label  \\\n",
       "0  ENSG00000004059  ENST00000000233                  244      0   \n",
       "1  ENSG00000004059  ENST00000000233                  261      0   \n",
       "2  ENSG00000004059  ENST00000000233                  316      0   \n",
       "3  ENSG00000004059  ENST00000000233                  332      0   \n",
       "4  ENSG00000004059  ENST00000000233                  368      0   \n",
       "\n",
       "   dwelling_time_before  sd_before  mean_before  dwelling_time_current  \\\n",
       "0              0.008264   4.223784   123.702703               0.009373   \n",
       "1              0.006609   3.216424   109.681395               0.006813   \n",
       "2              0.007570   2.940541   105.475676               0.007416   \n",
       "3              0.010620   6.476350   129.355000               0.008632   \n",
       "4              0.010701   6.415051   117.924242               0.011479   \n",
       "\n",
       "   sd_current  mean_current  dwelling_time_after  sd_after  mean_after  \n",
       "0    7.382162    125.913514             0.007345  4.386989   80.570270  \n",
       "1    3.226535    107.889535             0.007710  3.016599   94.290698  \n",
       "2    3.642703     98.947027             0.007555  2.087146   89.364324  \n",
       "3    2.899200     97.836500             0.006102  2.236520   89.154000  \n",
       "4    5.870303    121.954545             0.010019  4.260253   85.178788  "
      ]
     },
     "execution_count": 10,
     "metadata": {},
     "output_type": "execute_result"
    }
   ],
   "source": [
    "df.head()"
   ]
  },
  {
   "cell_type": "code",
   "execution_count": 11,
   "id": "b14535c3-4dcb-433a-b7ca-56bd05be09c3",
   "metadata": {},
   "outputs": [
    {
     "data": {
      "text/plain": [
       "(121838, 13)"
      ]
     },
     "execution_count": 11,
     "metadata": {},
     "output_type": "execute_result"
    }
   ],
   "source": [
    "df.shape"
   ]
  },
  {
   "cell_type": "code",
   "execution_count": 12,
   "id": "a1be8a28-b9bb-4a48-8013-77237f6c3794",
   "metadata": {},
   "outputs": [],
   "source": [
    "from sklearn.model_selection import GroupShuffleSplit "
   ]
  },
  {
   "cell_type": "code",
   "execution_count": 13,
   "id": "5c639b35-9186-46c7-bf75-595885c723ee",
   "metadata": {},
   "outputs": [],
   "source": [
    "splitter = GroupShuffleSplit(test_size=0.25, n_splits=1, random_state = 7)\n",
    "split = splitter.split(df, groups=df['gene_id'])\n",
    "train_ind, test_ind = next(split)\n",
    "\n",
    "train = df.iloc[train_ind]\n",
    "test = df.iloc[test_ind]"
   ]
  },
  {
   "cell_type": "code",
   "execution_count": 14,
   "id": "0c84cfaa-c825-4abb-a530-bccb94499bc2",
   "metadata": {},
   "outputs": [],
   "source": [
    "X_train = train.drop(['gene_id', 'transcript_id', 'transcript_position', 'label'], axis = 1)\n",
    "y_train = train['label']\n",
    "X_test = test.drop(['gene_id', 'transcript_id', 'transcript_position', 'label'], axis = 1)\n",
    "y_test = test['label']"
   ]
  },
  {
   "cell_type": "code",
   "execution_count": 20,
   "id": "e29d3f21-c676-4925-b4eb-0a9b4ad3170f",
   "metadata": {},
   "outputs": [],
   "source": [
    "from sklearn.neighbors import KNeighborsClassifier\n",
    "from sklearn.metrics import classification_report, confusion_matrix, accuracy_score, f1_score, precision_score, roc_auc_score, recall_score"
   ]
  },
  {
   "cell_type": "code",
   "execution_count": 23,
   "id": "32d9cf9c-1f81-436e-8804-372abef64bb2",
   "metadata": {},
   "outputs": [
    {
     "data": {
      "text/html": [
       "<div>\n",
       "<style scoped>\n",
       "    .dataframe tbody tr th:only-of-type {\n",
       "        vertical-align: middle;\n",
       "    }\n",
       "\n",
       "    .dataframe tbody tr th {\n",
       "        vertical-align: top;\n",
       "    }\n",
       "\n",
       "    .dataframe thead th {\n",
       "        text-align: right;\n",
       "    }\n",
       "</style>\n",
       "<table border=\"1\" class=\"dataframe\">\n",
       "  <thead>\n",
       "    <tr style=\"text-align: right;\">\n",
       "      <th></th>\n",
       "      <th>True Y=0</th>\n",
       "      <th>True Y=1</th>\n",
       "    </tr>\n",
       "  </thead>\n",
       "  <tbody>\n",
       "    <tr>\n",
       "      <th>Predicted Y=0</th>\n",
       "      <td>29298</td>\n",
       "      <td>1115</td>\n",
       "    </tr>\n",
       "    <tr>\n",
       "      <th>Predicted Y=1</th>\n",
       "      <td>101</td>\n",
       "      <td>236</td>\n",
       "    </tr>\n",
       "  </tbody>\n",
       "</table>\n",
       "</div>"
      ],
      "text/plain": [
       "               True Y=0  True Y=1\n",
       "Predicted Y=0     29298      1115\n",
       "Predicted Y=1       101       236"
      ]
     },
     "metadata": {},
     "output_type": "display_data"
    },
    {
     "name": "stdout",
     "output_type": "stream",
     "text": [
      "Accuracy: 0.9605\n",
      "Precision: 0.7003\n",
      "Specificity: 0.9966\n",
      "Recall 0.1747\n",
      "F1-Score: 0.2796\n",
      "AUC: 0.5856\n"
     ]
    }
   ],
   "source": [
    "#fit KNN model where k = 60\n",
    "k = 60\n",
    "knn = KNeighborsClassifier(n_neighbors = k, n_jobs=-1).fit(X_train, y_train)\n",
    "\n",
    "#predict on test set, with results and metrics shown\n",
    "pred_y = knn.predict(X_test)\n",
    "cm = pd.DataFrame(confusion_matrix(pred_y, y_test))\n",
    "cm.columns = ['True Y=0','True Y=1']\n",
    "cm.index = ['Predicted Y=0','Predicted Y=1']\n",
    "display(cm)\n",
    "specificity = cm.iloc[0, 0]/(cm.iloc[0, 0] + cm.iloc[1, 0])\n",
    "print(\"Accuracy:\",round(accuracy_score(y_test, pred_y),4))\n",
    "print('Precision:', round(precision_score(y_test, pred_y),4))\n",
    "print('Specificity:', round(specificity,4))\n",
    "print('Recall',round(recall_score(y_test,pred_y),4))\n",
    "print('F1-Score:', round(f1_score(y_test,pred_y),4))\n",
    "print('AUC:',round(roc_auc_score(y_test, pred_y),4))"
   ]
  },
  {
   "cell_type": "code",
   "execution_count": 24,
   "id": "87ba5602-53b0-4214-bb78-da280674e495",
   "metadata": {},
   "outputs": [],
   "source": [
    "#split the train data further into train and validation set\n",
    "splitter = GroupShuffleSplit(test_size=0.2, n_splits=1, random_state = 7)\n",
    "split = splitter.split(train, groups=train['gene_id'])\n",
    "train_indx, val_indx = next(split)\n",
    "\n",
    "training = train.iloc[train_indx]\n",
    "val = train.iloc[val_indx]"
   ]
  },
  {
   "cell_type": "code",
   "execution_count": 25,
   "id": "0c81b464-c272-4a09-bf27-45f3e7889bbc",
   "metadata": {},
   "outputs": [],
   "source": [
    "train_x = training.drop(['gene_id', 'transcript_id', 'transcript_position', 'label'], axis = 1)\n",
    "train_y = training['label']\n",
    "val_x = val.drop(['gene_id', 'transcript_id', 'transcript_position', 'label'], axis = 1)\n",
    "val_y = val['label']"
   ]
  },
  {
   "cell_type": "code",
   "execution_count": 26,
   "id": "9762aa3c-3006-4b0f-8f7e-71aa3351c3d6",
   "metadata": {},
   "outputs": [
    {
     "name": "stdout",
     "output_type": "stream",
     "text": [
      "CPU times: user 53.5 s, sys: 867 ms, total: 54.4 s\n",
      "Wall time: 15.6 s\n"
     ]
    }
   ],
   "source": [
    "%%time\n",
    "#finding optimal value of k\n",
    "error_rate = []\n",
    "\n",
    "for i in range(1, 201, 10):\n",
    "    knn = KNeighborsClassifier(n_neighbors=i, n_jobs=-1)\n",
    "    knn.fit(train_x, train_y)\n",
    "    pred_i = knn.predict(val_x)\n",
    "    error_rate.append(np.mean(pred_i != val_y))"
   ]
  },
  {
   "cell_type": "code",
   "execution_count": 27,
   "id": "8c66a74e-d732-4637-a18a-ad35d84857c2",
   "metadata": {},
   "outputs": [
    {
     "data": {
      "image/png": "[encoded data removed]",
      "text/plain": [
       "<Figure size 720x432 with 1 Axes>"
      ]
     },
     "metadata": {
      "needs_background": "light"
     },
     "output_type": "display_data"
    }
   ],
   "source": [
    "#plot graph of error rate against value of k\n",
    "plt.figure(figsize=(10,6))\n",
    "plt.plot(range(1, 201, 10), error_rate, color=\"blue\", linestyle=\"dashed\", marker=\"o\", markerfacecolor=\"red\", markersize=5)\n",
    "plt.title(\"Error Rate vs. K Value\")\n",
    "plt.xlabel(\"K\")\n",
    "plt.ylabel(\"Error Rate\")\n",
    "plt.show()"
   ]
  },
  {
   "cell_type": "code",
   "execution_count": 28,
   "id": "1dbf9a76-f859-44c0-a4da-3ab40fc3a491",
   "metadata": {},
   "outputs": [
    {
     "data": {
      "text/plain": [
       "array([[0.98429319, 0.01570681],\n",
       "       [0.95287958, 0.04712042],\n",
       "       [0.94764398, 0.05235602],\n",
       "       ...,\n",
       "       [0.95287958, 0.04712042],\n",
       "       [0.96858639, 0.03141361],\n",
       "       [1.        , 0.        ]])"
      ]
     },
     "execution_count": 28,
     "metadata": {},
     "output_type": "execute_result"
    }
   ],
   "source": [
    "knn.predict_proba(X_test)"
   ]
  },
  {
   "cell_type": "code",
   "execution_count": 29,
   "id": "3aea5d26-fe90-40ea-b61e-f003ba2bdc64",
   "metadata": {},
   "outputs": [
    {
     "data": {
      "text/plain": [
       "array([0, 0, 0, ..., 0, 0, 0])"
      ]
     },
     "execution_count": 29,
     "metadata": {},
     "output_type": "execute_result"
    }
   ],
   "source": [
    "pred_y"
   ]
  },
  {
   "cell_type": "code",
   "execution_count": null,
   "id": "8104602e-d4dc-48fa-80b6-01d54e0e835e",
   "metadata": {},
   "outputs": [],
   "source": []
  }
 ],
 "metadata": {
  "kernelspec": {
   "display_name": "Python 3",
   "language": "python",
   "name": "python3"
  },
  "language_info": {
   "codemirror_mode": {
    "name": "ipython",
    "version": 3
   },
   "file_extension": ".py",
   "mimetype": "text/x-python",
   "name": "python",
   "nbconvert_exporter": "python",
   "pygments_lexer": "ipython3",
   "version": "3.8.8"
  }
 },
 "nbformat": 4,
 "nbformat_minor": 5
}
